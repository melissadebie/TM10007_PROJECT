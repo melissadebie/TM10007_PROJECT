{
  "nbformat": 4,
  "nbformat_minor": 0,
  "metadata": {
    "colab": {
      "name": "Copy of assignment.ipynb",
      "provenance": [],
      "collapsed_sections": [
        "Q4XsxTxZqWQG",
        "4bcYLxnmDxtv"
      ],
      "include_colab_link": true
    },
    "kernelspec": {
      "display_name": "Python 3",
      "language": "python",
      "name": "python3"
    },
    "language_info": {
      "codemirror_mode": {
        "name": "ipython",
        "version": 3
      },
      "file_extension": ".py",
      "mimetype": "text/x-python",
      "name": "python",
      "nbconvert_exporter": "python",
      "pygments_lexer": "ipython3",
      "version": "3.7.4"
    }
  },
  "cells": [
    {
      "cell_type": "markdown",
      "metadata": {
        "id": "view-in-github",
        "colab_type": "text"
      },
      "source": [
        "<a href=\"https://colab.research.google.com/github/melissadebie/TM10007_PROJECT/blob/master/Copy_of_assignment.ipynb\" target=\"_parent\"><img src=\"https://colab.research.google.com/assets/colab-badge.svg\" alt=\"Open In Colab\"/></a>"
      ]
    },
    {
      "cell_type": "markdown",
      "metadata": {
        "colab_type": "text",
        "id": "7SXpaKwwGe5x"
      },
      "source": [
        "# TM10007 Assignment template\n",
        "Janne Luijten, Mathilde Scholtes, Imane Ihaddouchen and Melissa de Bie"
      ]
    },
    {
      "cell_type": "code",
      "metadata": {
        "colab_type": "code",
        "id": "CiDn2Sk-VWqE",
        "outputId": "5a52a724-53f4-4c6e-a409-1f66ce1fa1b1",
        "colab": {
          "base_uri": "https://localhost:8080/",
          "height": 50
        }
      },
      "source": [
        "# Run this to use from colab environment\n",
        "!pip install missingpy -q --upgrade git+https://github.com/karinvangarderen/tm10007_project.git"
      ],
      "execution_count": 1,
      "outputs": [
        {
          "output_type": "stream",
          "text": [
            "\u001b[?25l\r\u001b[K     |██████▊                         | 10kB 27.9MB/s eta 0:00:01\r\u001b[K     |█████████████▍                  | 20kB 2.2MB/s eta 0:00:01\r\u001b[K     |████████████████████            | 30kB 2.8MB/s eta 0:00:01\r\u001b[K     |██████████████████████████▊     | 40kB 2.1MB/s eta 0:00:01\r\u001b[K     |████████████████████████████████| 51kB 2.0MB/s \n",
            "\u001b[?25h  Building wheel for brats (setup.py) ... \u001b[?25l\u001b[?25hdone\n"
          ],
          "name": "stdout"
        }
      ]
    },
    {
      "cell_type": "markdown",
      "metadata": {
        "id": "2J1LFfoECmnc",
        "colab_type": "text"
      },
      "source": [
        "## Data loading"
      ]
    },
    {
      "cell_type": "code",
      "metadata": {
        "colab_type": "code",
        "id": "-NE_fTbKGe5z",
        "colab": {
          "base_uri": "https://localhost:8080/",
          "height": 138
        },
        "outputId": "1ce0bc67-5fc2-4613-8021-948367e644f0"
      },
      "source": [
        "# Data loading function\n",
        "from hn.load_data import load_data\n",
        "\n",
        "# General packages\n",
        "import numpy as np \n",
        "import matplotlib.pyplot as plt\n",
        "import seaborn\n",
        "import pandas as pd\n",
        "from sklearn import datasets as ds\n",
        "from sklearn import metrics\n",
        "from sklearn import preprocessing\n",
        "from sklearn import model_selection\n",
        "from sklearn import feature_selection \n",
        "from sklearn import neighbors\n",
        "from sklearn import svm\n",
        "from sklearn import decomposition\n",
        "from time import time\n",
        "\n",
        "# Imputing\n",
        "import sklearn\n",
        "from sklearn.impute import SimpleImputer\n",
        "from sklearn.experimental import enable_iterative_imputer\n",
        "from sklearn.impute import IterativeImputer\n",
        "from missingpy import KNNImputer\n",
        "from missingpy import MissForest\n",
        " \n",
        "# Metrics\n",
        "from sklearn.metrics import confusion_matrix\n",
        "from sklearn.metrics import mean_absolute_error\n",
        "from sklearn.metrics import r2_score\n",
        "\n",
        "# Classifiers\n",
        "from sklearn.naive_bayes import GaussianNB\n",
        "from sklearn.discriminant_analysis import LinearDiscriminantAnalysis\n",
        "from sklearn.discriminant_analysis import QuadraticDiscriminantAnalysis\n",
        "from sklearn.linear_model import LogisticRegression\n",
        "from sklearn.linear_model import SGDClassifier\n",
        "from sklearn.tree import DecisionTreeClassifier\n",
        "from sklearn.neighbors import KNeighborsClassifier\n",
        "from sklearn import model_selection\n",
        "from sklearn.decomposition import PCA\n",
        "from sklearn.svm import SVC, LinearSVC\n",
        "from sklearn.ensemble import RandomForestClassifier\n",
        "from sklearn.preprocessing import StandardScaler, RobustScaler, MinMaxScaler\n",
        "from sklearn.linear_model import Lasso, LassoCV, RidgeClassifier\n",
        "from yellowbrick.regressor import AlphaSelection\n",
        "from sklearn.model_selection import RandomizedSearchCV, GridSearchCV\n",
        "from sklearn.pipeline import make_pipeline\n",
        "from sklearn.feature_selection import SelectKBest, f_classif, SelectPercentile, GenericUnivariateSelect, chi2\n",
        "from sklearn.feature_selection import SelectFromModel\n",
        "from sklearn.discriminant_analysis import LinearDiscriminantAnalysis as LDA\n",
        "from sklearn.metrics import roc_curve, auc\n",
        "from sklearn.model_selection import learning_curve\n",
        "from sklearn.model_selection import ShuffleSplit\n",
        "from matplotlib.colors import ListedColormap\n",
        "from sklearn.model_selection import train_test_split\n",
        "from sklearn.datasets import make_moons, make_circles, make_classification\n",
        "from sklearn.neural_network import MLPClassifier\n",
        "from sklearn.gaussian_process import GaussianProcessClassifier\n",
        "from sklearn.gaussian_process.kernels import RBF\n",
        "from sklearn.ensemble import  AdaBoostClassifier\n",
        "from sklearn.naive_bayes import GaussianNB\n",
        "\n",
        "\n"
      ],
      "execution_count": 2,
      "outputs": [
        {
          "output_type": "stream",
          "text": [
            "/usr/local/lib/python3.6/dist-packages/statsmodels/tools/_testing.py:19: FutureWarning: pandas.util.testing is deprecated. Use the functions in the public API at pandas.testing instead.\n",
            "  import pandas.util.testing as tm\n",
            "/usr/local/lib/python3.6/dist-packages/sklearn/utils/deprecation.py:144: FutureWarning: The sklearn.neighbors.base module is  deprecated in version 0.22 and will be removed in version 0.24. The corresponding classes / functions should instead be imported from sklearn.neighbors. Anything that cannot be imported from sklearn.neighbors is now part of the private API.\n",
            "  warnings.warn(message, FutureWarning)\n",
            "/usr/local/lib/python3.6/dist-packages/sklearn/utils/deprecation.py:144: FutureWarning: The sklearn.metrics.classification module is  deprecated in version 0.22 and will be removed in version 0.24. The corresponding classes / functions should instead be imported from sklearn.metrics. Anything that cannot be imported from sklearn.metrics is now part of the private API.\n",
            "  warnings.warn(message, FutureWarning)\n"
          ],
          "name": "stderr"
        }
      ]
    },
    {
      "cell_type": "markdown",
      "metadata": {
        "id": "kd5Zvm06Itkk",
        "colab_type": "text"
      },
      "source": [
        "## Load and print data"
      ]
    },
    {
      "cell_type": "code",
      "metadata": {
        "id": "DwQLbeB6IsBX",
        "colab_type": "code",
        "outputId": "d937b833-083d-4f34-af31-e75857aeeb50",
        "colab": {
          "base_uri": "https://localhost:8080/",
          "height": 50
        }
      },
      "source": [
        "# Load Data\n",
        "data = load_data()\n",
        "print(f'The number of samples: {len(data.index)}')\n",
        "print(f'The number of columns: {len(data.columns)}')\n",
        "\n",
        "y = data['label']\n",
        "\n",
        "# Binarize the data for tumor stages\n",
        "y_bin = []\n",
        "for i in y:\n",
        "  if i == 'T12':\n",
        "    i=0\n",
        "    y_bin.append(i)\n",
        "  else:\n",
        "      i=1\n",
        "      y_bin.append(i)\n",
        "y_bin = np.transpose(y_bin)\n"
      ],
      "execution_count": 3,
      "outputs": [
        {
          "output_type": "stream",
          "text": [
            "The number of samples: 113\n",
            "The number of columns: 160\n"
          ],
          "name": "stdout"
        }
      ]
    },
    {
      "cell_type": "markdown",
      "metadata": {
        "id": "Q4XsxTxZqWQG",
        "colab_type": "text"
      },
      "source": [
        "## Data Cleaning - Removing outliers"
      ]
    },
    {
      "cell_type": "code",
      "metadata": {
        "id": "LvsRMHiJ2xGz",
        "colab_type": "code",
        "colab": {}
      },
      "source": [
        "#Settings to view more of the df\n",
        "pd.options.display.max_rows = 5\n",
        "pd.options.display.max_columns = 5\n",
        "\n",
        "#View original data\n",
        "# print('Original dataframe:', data)\n",
        "\n",
        "#Drop labels-column to apply outlier removal\n",
        "data_no_labels = data.copy()\n",
        "data_no_labels.drop(columns=['label'], axis=1, inplace=True)\n",
        "\n",
        "#Turn outliers into NaN (below 1% and above 99%)\n",
        "for column in data_no_labels.columns:\n",
        "  data_no_labels.loc[(data_no_labels[column] <= data_no_labels[column].quantile(0.01)) | (data_no_labels[column] >= data_no_labels[column].quantile(0.99)), column] = np.nan\n",
        "data_no_labels_no_outliers = data_no_labels.copy()\n",
        "\n",
        "# print('Dataframe without labels and without outliers:', data_no_labels_no_outliers)\n",
        "\n",
        "#Add labels-column to df without outliers\n",
        "data_no_labels_no_outliers['label'] = y\n",
        "data_no_outliers = data_no_labels_no_outliers.copy()\n",
        "\n",
        "# print('Dataframe without outliers:', data_no_outliers)"
      ],
      "execution_count": 0,
      "outputs": []
    },
    {
      "cell_type": "markdown",
      "metadata": {
        "id": "4bcYLxnmDxtv",
        "colab_type": "text"
      },
      "source": [
        "## Cleaning data - Removing missing data"
      ]
    },
    {
      "cell_type": "code",
      "metadata": {
        "id": "kBw5VXUFD1oY",
        "colab_type": "code",
        "outputId": "309fbb6b-0195-46c3-d5e1-1ad9589b5eeb",
        "colab": {
          "base_uri": "https://localhost:8080/",
          "height": 0
        }
      },
      "source": [
        "#Clearing of missing data\n",
        "number_of_columns = len(data.columns)\n",
        "number_of_rows = len(data.index)\n",
        "\n",
        "#Set threshold for removing columns (10% missing data)\n",
        "threshold_columns = 0.1*number_of_rows\n",
        "print('Threshold NaN columns:', threshold_columns) # if there are more Nan's in a column than the threshold, they are removed\n",
        "\n",
        "#Replace all missing values (0.0) with NaN\n",
        "data_nans = data_no_outliers.replace(to_replace=0.0, value=np.nan)\n",
        "\n",
        "#Loop over every column and remove if too many NaN values\n",
        "for column in data_nans.columns:\n",
        "    sum_nans = data_nans[column].isna().sum()\n",
        "    if sum_nans >= threshold_columns:\n",
        "        del data_nans[column]\n",
        "\n",
        "#Printing new df\n",
        "# print('Data_nans after removing columns:', data_nans)\n",
        "\n",
        "#Set threshold for removing rows (30% missing data)\n",
        "number_of_columns_after_column_del = len(data_nans.columns)\n",
        "threshold_rows = 0.3*number_of_columns_after_column_del\n",
        "print('Threshold NaN rows:', threshold_rows)\n",
        "\n",
        "#Loop over every row and remove if too many NaN values\n",
        "for index, row in data_nans.iterrows():\n",
        "    sum_nans = row.isna().sum()\n",
        "    if sum_nans >= threshold_rows:\n",
        "        data_nans.drop(index, inplace=True)\n",
        "\n",
        "#Printing new df\n",
        "# print('Data_nans after removing columns AND rows:', data_nans)\n",
        "\n",
        "#Calculate remaining NaN values (total, per column, per row) and print\n",
        "de_som = data_nans.isnull().sum().sum()\n",
        "print('Remaining nans:', de_som)\n",
        "\n",
        "nans_per_column = data_nans.isnull().sum(axis = 0)\n",
        "nans_per_column_nonzero = nans_per_column[nans_per_column>0]\n",
        "print('NaNs per column nonzero:\\n',nans_per_column_nonzero, len(nans_per_column_nonzero))\n",
        "\n",
        "nans_per_row = data_nans.isnull().sum(axis = 1)\n",
        "nans_per_row_nonzero = nans_per_row[nans_per_row>0]\n",
        "print('NaNs per row nonzero:\\n',nans_per_row_nonzero, len(nans_per_row_nonzero))\n",
        "\n",
        "data_nans_no_labels = data_nans.copy()\n",
        "data_nans_no_labels.drop(columns=['label'], axis=1, inplace=True)"
      ],
      "execution_count": 5,
      "outputs": [
        {
          "output_type": "stream",
          "text": [
            "Threshold NaN columns: 11.3\n",
            "Threshold NaN rows: 40.8\n",
            "Remaining nans: 565\n",
            "NaNs per column nonzero:\n",
            " hf_energy            4\n",
            "hf_entropy           4\n",
            "                    ..\n",
            "tf_LBP_std_R3_P12    4\n",
            "tf_LBP_std_R8_P24    4\n",
            "Length: 135, dtype: int64 135\n",
            "NaNs per row nonzero:\n",
            " ID\n",
            "0_HN1006_0    1\n",
            "0_HN1026_0    4\n",
            "             ..\n",
            "0_HN1954_0    3\n",
            "0_HN1987_0    2\n",
            "Length: 89, dtype: int64 89\n"
          ],
          "name": "stdout"
        }
      ]
    },
    {
      "cell_type": "markdown",
      "metadata": {
        "id": "X69FncaeEMPZ",
        "colab_type": "text"
      },
      "source": [
        "## Data imputation\n",
        "Imputating data on NaN locations"
      ]
    },
    {
      "cell_type": "code",
      "metadata": {
        "id": "T6HGuEJWEPJA",
        "colab_type": "code",
        "outputId": "3d6a4ecf-a1fa-491a-ade9-d13e8e7eb350",
        "colab": {
          "base_uri": "https://localhost:8080/",
          "height": 138
        }
      },
      "source": [
        "#Save the indices of rows and columns\n",
        "row_indices = data_nans_no_labels.index.tolist()\n",
        "column_indices = data_nans_no_labels.columns.tolist()\n",
        "\n",
        "#Simple imputer\n",
        "sim_imputer = SimpleImputer(missing_values=np.nan, strategy='median')\n",
        "sim_imputer = sim_imputer.fit(data_nans_no_labels)\n",
        "data_sim_imp_array = sim_imputer.transform(data_nans_no_labels)\n",
        "data_sim_imp_no_labels = pd.DataFrame(data=data_sim_imp_array, index=row_indices, columns=column_indices)\n",
        "# print('Data df after simple imp:\\n', data_sim_imp_no_labels)\n",
        "\n",
        "#Iterative imputer\n",
        "def imputed_data_it(data_nans_no_labels): \n",
        "  it_imputer = SimpleImputer(missing_values=np.nan, strategy='median')\n",
        "  it_imputer = it_imputer.fit(data_nans_no_labels)\n",
        "  data_it_imp_array = it_imputer.transform(data_nans_no_labels)\n",
        "  data_it_imp_no_labels = pd.DataFrame(data=data_it_imp_array, index=row_indices, columns=column_indices)\n",
        "  # print('Data after iterative imp:\\n', data_it_imp_no_labels)\n",
        "  return data_it_imp_no_labels\n",
        "\n",
        "data_it_imp_no_labels = imputed_data_it(data_nans_no_labels)\n",
        "\n",
        "#MissingPy  KNN imputer\n",
        "def imputed_data(data_nans_no_labels): \n",
        "  kNN_imputer = KNNImputer(missing_values=np.nan, weights='distance')\n",
        "  kNN_imputer = kNN_imputer.fit(data_nans_no_labels)\n",
        "  data_kNN_imp_array = kNN_imputer.transform(data_nans_no_labels)\n",
        "  data_kNN_imp_no_labels = pd.DataFrame(data=data_kNN_imp_array, index=row_indices, columns=column_indices)\n",
        "  # print('Data after kNN imp:\\n', data_kNN_imp_no_labels)\n",
        "  return data_kNN_imp_no_labels\n",
        "\n",
        "data_kNN_imp_no_labels = imputed_data(data_nans_no_labels)\n",
        "\n",
        "#MissingPy Random Forest imputer, takes a lot of time to run\n",
        "# RF_imputer = MissForest(missing_values=np.nan)\n",
        "# RF_imputer = RF_imputer.fit(data_nans_no_labels)\n",
        "# data_RF_imp_array = RF_imputer.transform(data_nans_no_labels)\n",
        "# data_RF_imp_no_labels = pd.DataFrame(data=data_RF_imp_array, index=row_indices, columns=column_indices)\n",
        "# print('Data after RF imp:\\n', data_RF_imp_no_labels)\n",
        "\n",
        "#Adding labels back to df's\n",
        "data_sim_imp_no_labels['label'] = y\n",
        "data_sim_imp = data_sim_imp_no_labels.copy()\n",
        "\n",
        "data_it_imp_no_labels['label'] = y\n",
        "data_it_imp = data_it_imp_no_labels.copy()\n",
        "\n",
        "data_kNN_imp_no_labels['label'] = y\n",
        "data_kNN_imp = data_kNN_imp_no_labels.copy()\n",
        "\n",
        "# SAME\n",
        "# data_RF_imp_no_labels['label'] = y\n",
        "# data_RF_imp = data_RF_imp_no_labels.copy()"
      ],
      "execution_count": 6,
      "outputs": [
        {
          "output_type": "stream",
          "text": [
            "/usr/local/lib/python3.6/dist-packages/missingpy/pairwise_external.py:135: FutureWarning: 'warn_on_dtype' is deprecated in version 0.21 and will be removed in 0.23. Don't set `warn_on_dtype` to remove this warning.\n",
            "  warn_on_dtype=warn_on_dtype, estimator=estimator)\n",
            "/usr/local/lib/python3.6/dist-packages/missingpy/pairwise_external.py:138: FutureWarning: 'warn_on_dtype' is deprecated in version 0.21 and will be removed in 0.23. Don't set `warn_on_dtype` to remove this warning.\n",
            "  warn_on_dtype=warn_on_dtype, estimator=estimator)\n",
            "/usr/local/lib/python3.6/dist-packages/missingpy/utils.py:124: RuntimeWarning: invalid value encountered in sqrt\n",
            "  return distances if squared else np.sqrt(distances, out=distances)\n"
          ],
          "name": "stderr"
        }
      ]
    },
    {
      "cell_type": "markdown",
      "metadata": {
        "id": "voIWuFaNBNkQ",
        "colab_type": "text"
      },
      "source": [
        "## Try out different cleaned and imputed datasets"
      ]
    },
    {
      "cell_type": "code",
      "metadata": {
        "id": "UuJ5Nu_gHWUa",
        "colab_type": "code",
        "colab": {}
      },
      "source": [
        "# data = data_sim_imp\n",
        "# data = data_it_imp\n",
        "data = data_kNN_imp \n",
        "# data = data_RF_imp\n",
        "\n",
        "y = y_bin\n",
        "\n",
        "# Data without label\n",
        "data_without_label = data.drop(columns=['label'])"
      ],
      "execution_count": 0,
      "outputs": []
    },
    {
      "cell_type": "markdown",
      "metadata": {
        "id": "OOD2olKznueV",
        "colab_type": "text"
      },
      "source": [
        "## Split data \n",
        "Split in test set and train set, 20/80 ratio. Stratify at y = data['label'] so the two different tumorstages are divided fairly amongst the test and train set."
      ]
    },
    {
      "cell_type": "code",
      "metadata": {
        "id": "PJ_kB5RenwNx",
        "colab_type": "code",
        "outputId": "391dccda-8fb7-4cdc-f846-8216abfa8b84",
        "colab": {
          "base_uri": "https://localhost:8080/",
          "height": 151
        }
      },
      "source": [
        "def splits_data(data,y):\n",
        "  X_train, X_test, y_train, y_test = model_selection.train_test_split(data, y, test_size=0.2, train_size=0.8, random_state=0, stratify=y)\n",
        "  # Remove column 'label' from train and test set\n",
        "  print(X_train)\n",
        "  X_train_no_label = X_train.drop(columns=['label'])\n",
        "  X_test_no_label = X_test.drop(columns=['label'])\n",
        "\n",
        "  # The column 'label' of the train and test data \n",
        "  train_labels = X_train['label']\n",
        "  test_labels = X_test['label']\n",
        "  return X_train, X_test, y_train, y_test, X_train_no_label, X_test_no_label, train_labels, test_labels\n",
        "\n",
        "X_train, X_test, y_train, y_test, X_train_no_label, X_test_no_label, train_labels, test_labels = splits_data(data,y)"
      ],
      "execution_count": 8,
      "outputs": [
        {
          "output_type": "stream",
          "text": [
            "               hf_energy  hf_entropy  ...  tf_LBP_std_R8_P24  label\n",
            "0_HN1679_0    832.321585    3.737777  ...           7.182751    T12\n",
            "0_HN1486_0  12683.086332    2.887517  ...           9.148610    T34\n",
            "...                  ...         ...  ...                ...    ...\n",
            "0_HN1429_0  29530.296343    2.032218  ...           9.228597    T12\n",
            "0_HN1465_0   6416.462243    2.595470  ...           8.591904    T34\n",
            "\n",
            "[90 rows x 136 columns]\n"
          ],
          "name": "stdout"
        }
      ]
    },
    {
      "cell_type": "markdown",
      "metadata": {
        "id": "zEpALbn2pBCY",
        "colab_type": "text"
      },
      "source": [
        "## Scale data\n",
        "Scale the data with different scalers"
      ]
    },
    {
      "cell_type": "code",
      "metadata": {
        "id": "o7jxG1iPpDFx",
        "colab_type": "code",
        "colab": {}
      },
      "source": [
        "#standard_scaler = StandardScaler()\n",
        "#Xtr_s = standard_scaler.fit_transform(X_train_no_label)\n",
        "#Xte_s = standard_scaler.transform(X_test_no_label)\n",
        "\n",
        "# Saving indices of rows and columns\n",
        "train_row_indices = X_train_no_label.index.tolist()\n",
        "train_column_indices = X_train_no_label.columns.tolist()\n",
        "\n",
        "test_row_indices = X_test_no_label.index.tolist()\n",
        "test_column_indices = X_test_no_label.columns.tolist()\n",
        "\n",
        "# Scaled data as array (without column 'label')\n",
        "def scaled_data(X_train_no_label, X_test_no_label):\n",
        "  robust_scaler = RobustScaler()\n",
        "  Xtr_r_array = robust_scaler.fit_transform(X_train_no_label)\n",
        "  Xte_r_array = robust_scaler.transform(X_test_no_label)\n",
        "  # Scaled data as dataframe (without column 'label')\n",
        "  Xtr_r = pd.DataFrame(data=Xtr_r_array, index=train_row_indices, columns=train_column_indices)\n",
        "  Xte_r = pd.DataFrame(data=Xte_r_array, index=test_row_indices, columns=test_column_indices)\n",
        "  # Scaled data as dataframe (with column 'label')\n",
        "  Xtr_r_labels = Xtr_r.copy()\n",
        "  # Xtr_r_labels['label'] = train_labels\n",
        "  Xte_r_labels = Xte_r.copy()\n",
        "  # Xte_r_labels['label'] = test_labels\n",
        "  return Xtr_r, Xte_r \n",
        "\n",
        "Xtr_r, Xte_r = scaled_data(X_train_no_label,X_test_no_label)"
      ],
      "execution_count": 0,
      "outputs": []
    },
    {
      "cell_type": "markdown",
      "metadata": {
        "id": "KAZO-e4Uez2a",
        "colab_type": "text"
      },
      "source": [
        "## PCA"
      ]
    },
    {
      "cell_type": "code",
      "metadata": {
        "id": "pnZIJADlerf-",
        "colab_type": "code",
        "outputId": "9c9f5a57-8b18-4cba-9634-a864c5b6acbf",
        "colab": {
          "base_uri": "https://localhost:8080/",
          "height": 722
        }
      },
      "source": [
        "#PCA PART 1 \n",
        "pca=PCA(n_components=2) \n",
        "pca.fit(Xtr_r) \n",
        "X_pca=pca.transform(Xtr_r) \n",
        "\n",
        "#variance ratio\n",
        "ex_variance=np.var(X_pca,axis=0)\n",
        "ex_variance_ratio = ex_variance/np.sum(ex_variance)\n",
        "print(ex_variance_ratio)\n",
        "\n",
        "# The amount of information or variance each principal component holds after projecting the data to a lower dimensional subspace\n",
        "print('Explained variation per principal component: {}'.format(pca.explained_variance_ratio_)) \n",
        "\n",
        "# Principal component 1 holds 30,6% of the information, while principal component 2 only holds 11,3% of the information, so when projecting 160 dimensional data to 2 dimensional data, 59% information was lost.\n",
        "\n",
        "#Plot\n",
        "Xax=X_pca[:,0]\n",
        "Yax=X_pca[:,1]\n",
        "\n",
        "cdict={0:'red',1:'green'}\n",
        "labl={0:'T12',1:'T34'}\n",
        "marker={0:'*',1:'o'}\n",
        "alpha={0:.3, 1:.5}\n",
        "fig,ax=plt.subplots(figsize=(7,5))\n",
        "fig.patch.set_facecolor('white')\n",
        "for l in np.unique(y_train):\n",
        " ix=np.where(y_train==l)\n",
        " ax.scatter(Xax[ix],Yax[ix],c=cdict[l],s=40,\n",
        "           label=labl[l],marker=marker[l],alpha=alpha[l])\n",
        "\n",
        "plt.xlabel(\"First Principal Component - {0:.3}%\".format(pca.explained_variance_ratio_[0]*100),  fontsize=14)\n",
        "plt.ylabel(\"Second Principal Component - {0:.3}%\".format(pca.explained_variance_ratio_[1]*100), fontsize=14)\n",
        "plt.legend()\n",
        "plt.show()\n",
        "\n",
        "# PCA PART 2 - A FUNCTION FOR CALCULATING PCA \n",
        "def pca(Xtr_r, Xte_r):\n",
        "\n",
        "    # This function trains and plots the Principal Component Analysis\n",
        "    pca = PCA().fit(Xtr_r)\n",
        "    variance = np.cumsum(pca.explained_variance_ratio_)\n",
        "    plt.figure()\n",
        "    plt.figure(figsize=(5,5))\n",
        "    plt.xticks(fontsize=12)\n",
        "    plt.yticks(fontsize=12)\n",
        "    plt.plot(variance)\n",
        "    #plt.grid(b=None)\n",
        "    plt.xlabel('Number of Components')\n",
        "    plt.ylabel('Cumulative Explained Variance') # for each component\n",
        "    plt.title('Principal Component Analysis ')\n",
        "    plt.show()\n",
        "\n",
        "    # We are applying PCA to keep 98% of the variance\n",
        "    n_components = np.where(variance>0.98)[0][0]\n",
        "    pca = PCA(n_components=n_components)\n",
        "    PrincipalComponents = pca.fit_transform(Xtr_r)\n",
        "\n",
        "    # Transform data using PCA\n",
        "    Xtr_pca = pca.transform(Xtr_r)\n",
        "    Xte_pca = pca.transform(Xte_r)\n",
        "\n",
        "    # Return transformed train- and testdata\n",
        "    return Xtr_pca, Xte_pca\n",
        "\n",
        "Xtr_pca, Xte_pca = pca(Xtr_r, Xte_r)\n",
        "\n",
        "Xtr_pca=pd.DataFrame(Xtr_pca)\n",
        "Xte_pca=pd.DataFrame(Xte_pca)"
      ],
      "execution_count": 10,
      "outputs": [
        {
          "output_type": "stream",
          "text": [
            "[0.72477447 0.27522553]\n",
            "Explained variation per principal component: [0.29720085 0.11285892]\n"
          ],
          "name": "stdout"
        },
        {
          "output_type": "display_data",
          "data": {
            "image/png": "[encoded data removed]",
            "text/plain": [
              "<Figure size 504x360 with 1 Axes>"
            ]
          },
          "metadata": {
            "tags": []
          }
        },
        {
          "output_type": "display_data",
          "data": {
            "text/plain": [
              "<Figure size 576x396 with 0 Axes>"
            ]
          },
          "metadata": {
            "tags": []
          }
        },
        {
          "output_type": "display_data",
          "data": {
            "image/png": "[encoded data removed]",
            "text/plain": [
              "<Figure size 360x360 with 1 Axes>"
            ]
          },
          "metadata": {
            "tags": []
          }
        }
      ]
    },
    {
      "cell_type": "markdown",
      "metadata": {
        "id": "dolH4h-epQ63",
        "colab_type": "text"
      },
      "source": [
        "## Feature selection methods\n",
        "Multiple feature selection methods will be applied and analyzed, and the performance is measured through the accuracy. The most suitable method, so the method with the best performance on the training set is used.\n",
        "\n",
        "## RFECV Feature selection\n"
      ]
    },
    {
      "cell_type": "code",
      "metadata": {
        "id": "nrAXE_xtyeXW",
        "colab_type": "code",
        "outputId": "11dc8255-d4ec-4198-9af3-1ca3c4bfff54",
        "colab": {
          "base_uri": "https://localhost:8080/",
          "height": 546
        }
      },
      "source": [
        "# Function of RFECV feature selection method\n",
        "def rfecv (Xtr_pca, y_train, Xte_pca, y_test):\n",
        "  svc = svm.SVC(kernel='linear')\n",
        "  rfecv = feature_selection.RFECV(estimator=svc, step=1, scoring='roc_auc', cv=model_selection.StratifiedKFold(4))\n",
        "  fitted_rfecv = rfecv.fit(Xtr_pca, y_train)\n",
        "  print(f'Score from training data:',rfecv.score(Xtr_pca,y_train))\n",
        "  print(f'Score from test data:',rfecv.score(Xte_pca,y_test))\n",
        "  # Plot number of features VS. cross-validation scores\n",
        "  plt.figure()\n",
        "  plt.xlabel(\"Number of features selected\")\n",
        "  plt.ylabel(\"Cross validation score (nb of correct classifications)\")\n",
        "  plt.plot(range(1, len(rfecv.grid_scores_) + 1), rfecv.grid_scores_)\n",
        "  plt.show()\n",
        "  print(\"Num Features: %d\" % rfecv.n_features_)\n",
        "  df_rfecv=fitted_rfecv.ranking_[0:rfecv.n_features_]\n",
        "  df_rfecv_train=Xtr_pca[df_rfecv]\n",
        "  df_rfecv_test=Xte_pca[df_rfecv]\n",
        "  print(df_rfecv_train)\n",
        "  return df_rfecv_train, df_rfecv_test\n",
        "\n",
        "df_rfecv_train, df_rfecv_test = rfecv(Xtr_pca,y_train, Xte_pca, y_test)\n"
      ],
      "execution_count": 11,
      "outputs": [
        {
          "output_type": "stream",
          "text": [
            "Score from training data: 0.9555555555555556\n",
            "Score from test data: 0.8260869565217391\n"
          ],
          "name": "stdout"
        },
        {
          "output_type": "display_data",
          "data": {
            "image/png": "[encoded data removed]",
            "text/plain": [
              "<Figure size 576x396 with 1 Axes>"
            ]
          },
          "metadata": {
            "tags": []
          }
        },
        {
          "output_type": "stream",
          "text": [
            "Num Features: 16\n",
            "          1         18  ...        22        19\n",
            "0   3.281494 -0.140854  ...  1.459609  0.912235\n",
            "1  -3.561883  0.291083  ...  0.413793 -0.529721\n",
            "..       ...       ...  ...       ...       ...\n",
            "88 -1.296048  0.310698  ... -1.126317 -1.615535\n",
            "89 -0.392104 -0.061017  ... -0.538031 -1.712235\n",
            "\n",
            "[90 rows x 16 columns]\n"
          ],
          "name": "stdout"
        }
      ]
    },
    {
      "cell_type": "markdown",
      "metadata": {
        "id": "z9th5tO8XE_V",
        "colab_type": "text"
      },
      "source": [
        "# Lasso Regression feature selection"
      ]
    },
    {
      "cell_type": "code",
      "metadata": {
        "id": "KacHZ94aXEUf",
        "colab_type": "code",
        "outputId": "e9d5119e-bc47-4583-9c54-99dccee82941",
        "colab": {
          "base_uri": "https://localhost:8080/",
          "height": 34
        }
      },
      "source": [
        "# Function of Lasso feature selection method\n",
        "def lasso2_featureselection(Xtr_pca, y_train, Xte_pca, y_test):\n",
        "  selector = SelectFromModel(estimator=Lasso(alpha=10**(-10), random_state=42), threshold='median')\n",
        "  selector.fit(Xtr_pca, y_train)\n",
        "  n_original = Xte_pca.shape[1]\n",
        "  Xtr_pca_lasso = selector.transform(Xtr_pca)\n",
        "  Xte_pca_lasso = selector.transform(Xte_pca)\n",
        "  n_selected = Xtr_pca_lasso.shape[1]\n",
        "  print(f\"Selected {n_selected} from {n_original} features.\")\n",
        "\n",
        "  # Fit the LDA on selected features\n",
        "  clf = LDA()\n",
        "  clf.fit(Xtr_pca_lasso, y_train)\n",
        "  y_score = clf.predict_proba(Xte_pca_lasso)\n",
        "  # plot_roc_curve(y_score, y_test)\n",
        "\n",
        "  df_lasso_2_train=pd.DataFrame(Xtr_pca_lasso)\n",
        "  df_lasso_2_test=pd.DataFrame(Xte_pca_lasso)\n",
        "  return df_lasso_2_train, df_lasso_2_test\n",
        "\n",
        "df_lasso_2_train, df_lasso_2_test = lasso2_featureselection(Xtr_pca, y_train, Xte_pca, y_test)\n"
      ],
      "execution_count": 12,
      "outputs": [
        {
          "output_type": "stream",
          "text": [
            "Selected 25 from 50 features.\n"
          ],
          "name": "stdout"
        }
      ]
    },
    {
      "cell_type": "markdown",
      "metadata": {
        "id": "AUnqP-hGS5YB",
        "colab_type": "text"
      },
      "source": [
        "# Univariate Feature Selection"
      ]
    },
    {
      "cell_type": "code",
      "metadata": {
        "id": "GTqRVg2_SAV8",
        "colab_type": "code",
        "outputId": "5f7f9b0a-e841-4e46-c514-21012d0395a2",
        "colab": {
          "base_uri": "https://localhost:8080/",
          "height": 515
        }
      },
      "source": [
        "# Function of Univariate feature selection method\n",
        "def univariate_featureselection(Xtr_pca, y_train, Xte_pca, y_test):\n",
        "  X_indices = np.arange(Xtr_pca.shape[-1])\n",
        "\n",
        "  # The 92 best features are determined (outcome from RFECV)\n",
        "  selector = SelectKBest(score_func=f_classif, k='all')\n",
        "  selector.fit(Xtr_pca, y_train)\n",
        "\n",
        "  # Determine and print the new dataframes\n",
        "  selector_train=selector.transform(Xtr_pca)\n",
        "  selector_test=selector.transform(Xte_pca)\n",
        "  print(f'Shape of train data:',selector_train.shape)\n",
        "  print(f'Shape of test data: ',(selector_test.shape))\n",
        "  # print(selector.score_func(Xtr_r,y_train))\n",
        "  # print(selector.score_func(Xte_r,y_test))\n",
        "\n",
        "  scores = -np.log10(selector.pvalues_)\n",
        "  scores /= scores.max()\n",
        "  dfscores = pd.DataFrame(selector.scores_)\n",
        "  dfcolumns = pd.DataFrame(X_train_no_label.columns)\n",
        "\n",
        "  # Concat two dataframes for better visualization \n",
        "  featureScores = pd.concat([dfcolumns,dfscores],axis=1)\n",
        "  featureScores.columns = ['Specs','Score']  #naming the dataframe columns\n",
        "  print(featureScores.nlargest(14,'Score'))\n",
        "\n",
        "  plt.bar(X_indices - .45, scores, width=.2,\n",
        "          label=r'Univariate score ($-Log(p_{value})$)', color='darkorange',\n",
        "          edgecolor='black')\n",
        "  df_univariate_train=pd.DataFrame(selector_train)\n",
        "  df_univariate_test=pd.DataFrame(selector_test)\n",
        "  return df_univariate_train, df_univariate_test\n",
        "\n",
        "df_univariate_train, df_univariate_test = univariate_featureselection(Xtr_pca, y_train, Xte_pca, y_test)\n"
      ],
      "execution_count": 13,
      "outputs": [
        {
          "output_type": "stream",
          "text": [
            "Shape of train data: (90, 50)\n",
            "Shape of test data:  (23, 50)\n",
            "                  Specs      Score\n",
            "0             hf_energy  35.560606\n",
            "18  sf_convexity_std_2D   9.148354\n",
            "..                  ...        ...\n",
            "19       sf_cvar_avg_2D   1.295821\n",
            "13           of_theta_y   1.145411\n",
            "\n",
            "[14 rows x 2 columns]\n"
          ],
          "name": "stdout"
        },
        {
          "output_type": "display_data",
          "data": {
            "image/png": "[encoded data removed]",
            "text/plain": [
              "<Figure size 576x396 with 1 Axes>"
            ]
          },
          "metadata": {
            "tags": []
          }
        }
      ]
    },
    {
      "cell_type": "markdown",
      "metadata": {
        "id": "7Bh3cxfbS_mf",
        "colab_type": "text"
      },
      "source": [
        "# Random Forest Feature Selection"
      ]
    },
    {
      "cell_type": "code",
      "metadata": {
        "id": "DVwzsArbZKZj",
        "colab_type": "code",
        "outputId": "c7fcffa3-b55a-4226-944c-08b372276d10",
        "colab": {
          "base_uri": "https://localhost:8080/",
          "height": 967
        }
      },
      "source": [
        "# Function of Random Forest feature selection method with best hyperparameters\n",
        "def randomforest_featureselection(Xtr_pca, y_train, Xte_pca, y_test):\n",
        "  # n_estimators, max_depth, min_samples_split, min_samples_leaf, bootstrap, class_weight,\n",
        "  # Hyperparameters\n",
        "  n_estimators = [10, 30, 50, 100, 300]     \n",
        "  max_depth = [5, 10, 15, 20, 30, 40]                \n",
        "  min_samples_split = [7, 10, 12, 20, 30, 40]       \n",
        "  min_samples_leaf = [1, 5, 10, 15, 20]              \n",
        "  bootstrap = [True, False]\n",
        "  class_weight = [{0: 1, 1: 0.001}, {0: 1, 1: 1}, {0: 1, 1: 10}, {0: 1, 1: 100}]\n",
        "\n",
        "  # Convert to dictionary\n",
        "  hyperparameters = dict(n_estimators=n_estimators, max_depth=max_depth, \n",
        "                             min_samples_split=min_samples_split, \n",
        "                             min_samples_leaf=min_samples_leaf, \n",
        "                             bootstrap=bootstrap, class_weight=class_weight)\n",
        "\n",
        "  # Random Forest Classifier\n",
        "  forest = RandomForestClassifier()\n",
        "  forest.fit(Xtr_pca, y_train)\n",
        "\n",
        "  # Create new object\n",
        "  forest_2 = RandomForestClassifier()\n",
        "\n",
        "  # Use RandomizedSearch\n",
        "  clf = RandomizedSearchCV(forest_2, hyperparameters, cv=10)\n",
        "\n",
        "  # Fit the model\n",
        "  best_model = clf.fit(Xtr_pca, y_train)\n",
        "\n",
        "  # Determine best parameters\n",
        "  best_n_estimators = best_model.best_estimator_.get_params()['n_estimators']\n",
        "  best_max_depth = best_model.best_estimator_.get_params()['max_depth']\n",
        "  best_min_samples_split = best_model.best_estimator_.get_params()['min_samples_split']\n",
        "  best_min_samples_leaf = best_model.best_estimator_.get_params()['min_samples_leaf']\n",
        "  best_bootstrap = best_model.best_estimator_.get_params()['bootstrap']\n",
        "  best_class_weight = best_model.best_estimator_.get_params()['class_weight']\n",
        "\n",
        "  # Print best hyperparameters\n",
        "  print('Best Hyperparameters:')\n",
        "  print('Best number of trees in the forest:', best_n_estimators)\n",
        "  print('Best maximum depth of tree:', best_max_depth)\n",
        "  print('Best minimum number of samples required to split an internal node:', best_min_samples_split)\n",
        "  print('Best minimum number of samples required to be at a leaf node:', best_min_samples_leaf)\n",
        "  print('Whether bootstrap is used when building trees:', best_bootstrap)\n",
        "  print('Best class weights:', best_class_weight)\n",
        "  \n",
        "  # The feature selection with the best hyperparameters starts here\n",
        "  forest = RandomForestClassifier(n_estimators=best_n_estimators, max_depth=best_max_depth, \n",
        "                                  min_samples_split=best_min_samples_split, min_samples_leaf=best_min_samples_leaf,\n",
        "                                  bootstrap=best_bootstrap, class_weight=best_class_weight)\n",
        "  forest.fit(Xtr_pca,y_train) \n",
        "  importances = forest.feature_importances_\n",
        "  std = np.std([tree.feature_importances_ for tree in forest.estimators_],\n",
        "               axis=0)\n",
        "  indices = np.argsort(importances)[::-1]\n",
        "  train_score_rf_fs = forest.score(Xtr_pca,y_train)\n",
        "  test_score_rf_fs = forest.score(Xte_pca,y_test)\n",
        "  \n",
        "  # Print the feature ranking\n",
        "  print(\"Feature ranking:\")\n",
        "  df_rf =[]\n",
        "  for f in range(25):\n",
        "      print(\"%d. feature %d (%f)\" % (f + 1, indices[f], importances[indices[f]]))\n",
        "      df_rf.append(indices[f])\n",
        "\n",
        "  print(df_rf)\n",
        "  # Plot the feature importances of the forest\n",
        "  plt.figure()\n",
        "  plt.title(\"Feature importances\")\n",
        "  plt.bar(range(Xtr_pca.shape[1]), importances[indices],\n",
        "         color=\"r\", yerr=std[indices], align=\"center\")\n",
        "  plt.xticks(range(Xtr_pca.shape[1]), indices)\n",
        "  # plt.xlim([-1, Xtr_r.shape[1]])\n",
        "  plt.show()\n",
        "  df_rf_train=Xtr_pca[df_rf]\n",
        "  df_rf_test=Xte_pca[df_rf]\n",
        "\n",
        "  # Accuracy\n",
        "  print(f'Accuracy score of Random Forest feature selection method on train data:', train_score_rf_fs)\n",
        "  print(f'Accuracy score of Random Forest feature selection method on  on test data:', test_score_rf_fs)\n",
        "  return df_rf_train, df_rf_test\n",
        "\n",
        "df_rf_train, df_rf_test = randomforest_featureselection(Xtr_pca, y_train, Xte_pca, y_test)\n"
      ],
      "execution_count": 14,
      "outputs": [
        {
          "output_type": "stream",
          "text": [
            "Best Hyperparameters:\n",
            "Best number of trees in the forest: 100\n",
            "Best maximum depth of tree: 10\n",
            "Best minimum number of samples required to split an internal node: 12\n",
            "Best minimum number of samples required to be at a leaf node: 1\n",
            "Whether bootstrap is used when building trees: True\n",
            "Best class weights: {0: 1, 1: 1}\n",
            "Feature ranking:\n",
            "1. feature 0 (0.126590)\n",
            "2. feature 18 (0.089999)\n",
            "3. feature 26 (0.041937)\n",
            "4. feature 10 (0.035519)\n",
            "5. feature 30 (0.034765)\n",
            "6. feature 14 (0.033370)\n",
            "7. feature 27 (0.031054)\n",
            "8. feature 31 (0.028624)\n",
            "9. feature 6 (0.026890)\n",
            "10. feature 32 (0.024640)\n",
            "11. feature 23 (0.024514)\n",
            "12. feature 28 (0.021151)\n",
            "13. feature 44 (0.020152)\n",
            "14. feature 36 (0.020120)\n",
            "15. feature 46 (0.019530)\n",
            "16. feature 33 (0.019322)\n",
            "17. feature 25 (0.019069)\n",
            "18. feature 37 (0.017900)\n",
            "19. feature 1 (0.017696)\n",
            "20. feature 20 (0.017403)\n",
            "21. feature 47 (0.017071)\n",
            "22. feature 24 (0.015816)\n",
            "23. feature 49 (0.015788)\n",
            "24. feature 3 (0.015548)\n",
            "25. feature 2 (0.015187)\n",
            "[0, 18, 26, 10, 30, 14, 27, 31, 6, 32, 23, 28, 44, 36, 46, 33, 25, 37, 1, 20, 47, 24, 49, 3, 2]\n"
          ],
          "name": "stdout"
        },
        {
          "output_type": "display_data",
          "data": {
            "image/png": "[encoded data removed]",
            "text/plain": [
              "<Figure size 576x396 with 1 Axes>"
            ]
          },
          "metadata": {
            "tags": []
          }
        },
        {
          "output_type": "stream",
          "text": [
            "Accuracy score of Random Forest feature selection method on train data: 1.0\n",
            "Accuracy score of Random Forest feature selection method on  on test data: 0.8260869565217391\n"
          ],
          "name": "stdout"
        }
      ]
    },
    {
      "cell_type": "markdown",
      "metadata": {
        "id": "NE4CSaUfxzDD",
        "colab_type": "text"
      },
      "source": [
        "# Classifiers\n",
        "\n",
        "SVM, RF, K-NN classifiers will be used\n",
        "\n",
        "\n",
        "\n",
        "\n",
        "\n",
        "\n"
      ]
    },
    {
      "cell_type": "markdown",
      "metadata": {
        "id": "08gaGHQI1IFm",
        "colab_type": "text"
      },
      "source": [
        "## Support Vector Machine classifier"
      ]
    },
    {
      "cell_type": "code",
      "metadata": {
        "id": "V7YjWdqDZFvA",
        "colab_type": "code",
        "outputId": "acc875b0-231f-45ec-c060-9533869de31e",
        "colab": {
          "base_uri": "https://localhost:8080/",
          "height": 151
        }
      },
      "source": [
        "# Function of SVM Classifier with best hyperparameters\n",
        "def svm_classifier(df_lasso_2_train, y_train, df_lasso_2_test, y_test):\n",
        "  \n",
        "  # Hyperparameters that we want to tune \n",
        "  C = [0.01, 0.5, 1.0]\n",
        "  kernel = ['linear', 'rbf', 'poly']\n",
        "  degree = list(range(5))\n",
        "  coef0 = [0.01, 0.5, 1, 2, 3]\n",
        "  gamma = [0.1, 1, 10, 100]\n",
        "\n",
        "  # Convert to dictionary\n",
        "  hyperparameters = dict(C=C, kernel=kernel, degree=degree, \n",
        "                             coef0=coef0, gamma=gamma) \n",
        "                           \n",
        "  # SVC \n",
        "  svc = SVC()\n",
        "\n",
        "  # Use RandomizedSearch\n",
        "  clf = RandomizedSearchCV(svc, hyperparameters, cv=10)\n",
        "\n",
        "  # Fit the model\n",
        "  best_model_svm = clf.fit(df_lasso_2_train, y_train)\n",
        "\n",
        "  # Determine best parameters\n",
        "  best_C = best_model_svm.best_estimator_.get_params()['C']\n",
        "  best_kernel = best_model_svm.best_estimator_.get_params()['kernel']\n",
        "  best_degree = best_model_svm.best_estimator_.get_params()['degree']\n",
        "  best_coef0 = best_model_svm.best_estimator_.get_params()['coef0']\n",
        "  best_gamma = best_model_svm.best_estimator_.get_params()['gamma']\n",
        "\n",
        "  # Print best hyperparameters\n",
        "  print('Hyperparameters optimized using RandomizedSearchCV for SVM-classifier:')\n",
        "  print('Best C (regularization parameter):', best_C)\n",
        "  print('Best kernel:', best_kernel)\n",
        "  print('Best of polynomial kernel (if used):', best_degree)\n",
        "  print('Best coef0 (only in poly or sigmoid):', best_coef0)\n",
        "  print('Best gamma (kernel coefficient for rbf, poly or sigmoid) bootstrap is used when building trees:', best_gamma)\n",
        "\n",
        "  # The classification with the best hyperparameters starts here\n",
        "  clf_svm = SVC(C=best_C, kernel=best_kernel, degree=best_degree, \n",
        "            coef0=best_coef0, gamma=best_gamma)\n",
        "  clf_svm.fit(df_lasso_2_train,y_train)\n",
        "  train_score_svm = clf_svm.score(df_lasso_2_train,y_train)\n",
        "  test_score_svm = clf_svm.score(df_lasso_2_test,y_test)\n",
        "\n",
        "  # Accuracy\n",
        "  print(f'Accuracy score of SVM Classifier on train data:', train_score_svm)\n",
        "  print(f'Accuracy score of SVM Classifier on test data:', test_score_svm)\n",
        "  return clf_svm, train_score_svm, test_score_svm\n",
        "\n",
        "clf_svm, train_score_svm, test_score_svm = svm_classifier(df_lasso_2_train, y_train, df_lasso_2_test, y_test)"
      ],
      "execution_count": 15,
      "outputs": [
        {
          "output_type": "stream",
          "text": [
            "Hyperparameters optimized using RandomizedSearchCV for SVM-classifier:\n",
            "Best C (regularization parameter): 0.01\n",
            "Best kernel: poly\n",
            "Best of polynomial kernel (if used): 1\n",
            "Best coef0 (only in poly or sigmoid): 0.5\n",
            "Best gamma (kernel coefficient for rbf, poly or sigmoid) bootstrap is used when building trees: 10\n",
            "Accuracy score of SVM Classifier on train data: 0.9111111111111111\n",
            "Accuracy score of SVM Classifier on test data: 0.7391304347826086\n"
          ],
          "name": "stdout"
        }
      ]
    },
    {
      "cell_type": "markdown",
      "metadata": {
        "id": "BwHwmhjVJmZG",
        "colab_type": "text"
      },
      "source": [
        "# Random Forest Classifier"
      ]
    },
    {
      "cell_type": "code",
      "metadata": {
        "id": "CrpiEW-HJlNQ",
        "colab_type": "code",
        "outputId": "2c4703d8-945d-48cd-b11f-a0e2cccf73fe",
        "colab": {
          "base_uri": "https://localhost:8080/",
          "height": 168
        }
      },
      "source": [
        "# Function of Random Forest Classifier with best hyperparameters\n",
        "def randomforest_classifier(df_lasso_2_train, y_train, df_lasso_2_test, y_test):\n",
        "\n",
        "  # Hyperparameters that we want to tune \n",
        "  n_estimators = [40, 80, 100, 200, 400, 500, 600, 800] \n",
        "  max_depth = [5, 10, 20, 40, 50]               \n",
        "  min_samples_split = [2,4,8,10, 13, 16,20]  \n",
        "  min_samples_leaf = [1, 5, 10, 15, 20,25]   \n",
        "  bootstrap = [True, False]\n",
        "  class_weight = [{0: 1, 1: 0.001}, {0: 1, 1: 1}, {0: 1, 1: 10}, {0: 1, 1: 100}]\n",
        " \n",
        "  # Convert to dictionary\n",
        "  hyperparameters = dict(n_estimators=n_estimators, max_depth=max_depth, \n",
        "                             min_samples_split=min_samples_split, \n",
        "                             min_samples_leaf=min_samples_leaf, \n",
        "                             bootstrap=bootstrap, class_weight=class_weight)\n",
        "\n",
        "  # Random Forest Classifier\n",
        "  rfc = RandomForestClassifier()\n",
        "\n",
        "  # Use randomized search\n",
        "  clf = RandomizedSearchCV(rfc, hyperparameters, cv=10)\n",
        "\n",
        "  # Fit the model\n",
        "  best_model = clf.fit(df_lasso_2_train, y_train)\n",
        "\n",
        "  # Define best hyperparameters\n",
        "  best_n_estimators = best_model.best_estimator_.get_params()['n_estimators']\n",
        "  best_max_depth = best_model.best_estimator_.get_params()['max_depth']\n",
        "  best_min_samples_split = best_model.best_estimator_.get_params()['min_samples_split']\n",
        "  best_min_samples_leaf = best_model.best_estimator_.get_params()['min_samples_leaf']\n",
        "  best_bootstrap = best_model.best_estimator_.get_params()['bootstrap']\n",
        "  best_class_weight = best_model.best_estimator_.get_params()['class_weight']\n",
        "\n",
        "  # Print best hyperparameters\n",
        "  print('Hyperparameters optimized using RandomizedSearchCV for RF-classifier:')\n",
        "  print('Best number of trees in the forest:', best_n_estimators)\n",
        "  print('Best maximum depth of tree:', best_max_depth)\n",
        "  print('Best minimum number of samples required to split an internal node:', best_min_samples_split)\n",
        "  print('Best minimum number of samples required to be at a leaf node:', best_min_samples_leaf)\n",
        "  print('Whether bootstrap is used when building trees:', best_bootstrap)\n",
        "  print('Best class weights:', best_class_weight)\n",
        "\n",
        "  # The classification with the best hyperparameters starts here\n",
        "  rfc = RandomForestClassifier(n_estimators=best_n_estimators, max_depth=best_max_depth, \n",
        "                                min_samples_split=best_min_samples_split, min_samples_leaf=best_min_samples_leaf,\n",
        "                                bootstrap=best_bootstrap, class_weight=best_class_weight)\n",
        "  rfc.fit(df_lasso_2_train, y_train)\n",
        "  train_score_rfc = rfc.score(df_lasso_2_train,y_train)\n",
        "  test_score_rfc = rfc.score(df_lasso_2_test,y_test)\n",
        "\n",
        "  # Accuracy\n",
        "  print(f'Accuracy score of Random Forest Classifier on train data:', train_score_rfc)\n",
        "  print(f'Accuracy score of Random Forest Classifier on test data:', test_score_rfc)\n",
        "  return rfc, train_score_rfc, test_score_rfc\n",
        "\n",
        "rfc, train_score_rfc, test_score_rfc = randomforest_classifier(df_lasso_2_train, y_train, df_lasso_2_test, y_test)\n"
      ],
      "execution_count": 16,
      "outputs": [
        {
          "output_type": "stream",
          "text": [
            "Hyperparameters optimized using RandomizedSearchCV for RF-classifier:\n",
            "Best number of trees in the forest: 500\n",
            "Best maximum depth of tree: 50\n",
            "Best minimum number of samples required to split an internal node: 20\n",
            "Best minimum number of samples required to be at a leaf node: 25\n",
            "Whether bootstrap is used when building trees: False\n",
            "Best class weights: {0: 1, 1: 1}\n",
            "Accuracy score of Random Forest Classifier on train data: 0.8666666666666667\n",
            "Accuracy score of Random Forest Classifier on test data: 0.7391304347826086\n"
          ],
          "name": "stdout"
        }
      ]
    },
    {
      "cell_type": "markdown",
      "metadata": {
        "id": "TUxwCcWE6zEU",
        "colab_type": "text"
      },
      "source": [
        "### K-NearestNeighbor-classifier"
      ]
    },
    {
      "cell_type": "code",
      "metadata": {
        "id": "Z1X2wJ-o6c1G",
        "colab_type": "code",
        "outputId": "1e9efab0-ce4e-4bd1-c143-516b29a75503",
        "colab": {
          "base_uri": "https://localhost:8080/",
          "height": 118
        }
      },
      "source": [
        "# Function of KNN-Classifier with best hyperparameters\n",
        "def knn_classifier(df_lasso_2_train, y_train, df_lasso_2_test, y_test):\n",
        "\n",
        "  # Hyperparameters that we want to tune \n",
        "  leaf_size = list(range(1,50))\n",
        "  n_neighbors = list(range(1,30))\n",
        "  p = [1,2]\n",
        "\n",
        "  # Convert to dictionary\n",
        "  hyperparameters = dict(leaf_size=leaf_size, n_neighbors=n_neighbors, p=p)\n",
        "\n",
        "  # KNN-classifier\n",
        "  clf_knn = KNeighborsClassifier()\n",
        "\n",
        "  # Use RandomizedSearch\n",
        "  clf = RandomizedSearchCV(clf_knn, hyperparameters, cv=10)\n",
        "\n",
        "  # Fit the model\n",
        "  best_model = clf.fit(df_lasso_2_train, y_train)\n",
        "\n",
        "  # Determine best hyperparameters\n",
        "  best_leaf_size = best_model.best_estimator_.get_params()['leaf_size']\n",
        "  best_n_neighbors = best_model.best_estimator_.get_params()['n_neighbors']\n",
        "  best_p = best_model.best_estimator_.get_params()['p']\n",
        "\n",
        "  # Print best hyperparameters\n",
        "  print('Hyperparameters optimized using RandomizedSearchCV for KNN-classifier:')\n",
        "  print('Best leafsize:', best_model.best_estimator_.get_params()['leaf_size'])\n",
        "  print('Best number of neighbors:', best_model.best_estimator_.get_params()['n_neighbors'])\n",
        "  print('Best p:', best_model.best_estimator_.get_params()['p'])\n",
        "\n",
        "  # The classification with the best hyperparameters starts here\n",
        "  clf_knn = KNeighborsClassifier(leaf_size=best_leaf_size, n_neighbors=best_n_neighbors,p=best_p)\n",
        "  clf_knn.fit(df_lasso_2_train, y_train)\n",
        "  train_score_knn = clf_knn.score(df_lasso_2_train,y_train)\n",
        "  test_score_knn = clf_knn.score(df_lasso_2_test,y_test) \n",
        "\n",
        "  # Accuracy\n",
        "  print(f'Accuracy score of KNN-Classifier on train data:', train_score_knn)\n",
        "  print(f'Accuracy score of KNN-Classifier on test data:', test_score_knn)\n",
        "  return clf_knn, train_score_knn, test_score_knn\n",
        "\n",
        "clf_knn, train_score_knn, test_score_knn = knn_classifier(df_lasso_2_train, y_train, df_lasso_2_test, y_test)"
      ],
      "execution_count": 17,
      "outputs": [
        {
          "output_type": "stream",
          "text": [
            "Hyperparameters optimized using RandomizedSearchCV for KNN-classifier:\n",
            "Best leafsize: 18\n",
            "Best number of neighbors: 12\n",
            "Best p: 1\n",
            "Accuracy score of KNN-Classifier on train data: 0.8333333333333334\n",
            "Accuracy score of KNN-Classifier on test data: 0.8260869565217391\n"
          ],
          "name": "stdout"
        }
      ]
    },
    {
      "cell_type": "markdown",
      "metadata": {
        "id": "Zw1qBT9JFCj4",
        "colab_type": "text"
      },
      "source": [
        "## Learning curves"
      ]
    },
    {
      "cell_type": "code",
      "metadata": {
        "id": "BjQG6dBpZF_V",
        "colab_type": "code",
        "outputId": "32781bf0-6aba-43a8-d68a-0bc92a61450c",
        "colab": {
          "base_uri": "https://localhost:8080/",
          "height": 200
        }
      },
      "source": [
        "h = .02  # step size in the mesh\n",
        "\n",
        "names = [\"SVM\", \"Random Forest\", \"KNN\"]\n",
        "\n",
        "\n",
        "def plot_learning_curve(estimator, title, X, y, axes, ylim=None, cv=None,\n",
        "                        n_jobs=None, train_sizes=np.linspace(.5, 1.0, 5)):\n",
        "    \"\"\"\n",
        "    Generate 3 plots: the test and training learning curves\n",
        "    \"\"\"\n",
        "\n",
        "    axes.set_title(title)\n",
        "    if ylim is not None:\n",
        "      axes.set_ylim(*ylim)\n",
        "      axes.set_xlabel(\"Training examples\")\n",
        "      axes.set_ylabel(\"Score\")\n",
        "\n",
        "    train_sizes, train_scores, test_scores  = \\\n",
        "        learning_curve(estimator, X, y, cv=cv, n_jobs=n_jobs,\n",
        "                       train_sizes=train_sizes)\n",
        "\n",
        "    train_scores_mean = np.mean(train_scores, axis=1)\n",
        "    train_scores_std = np.std(train_scores, axis=1)\n",
        "    test_scores_mean = np.mean(test_scores, axis=1)\n",
        "    test_scores_std = np.std(test_scores, axis=1)\n",
        "\n",
        "    # Plot learning curve\n",
        "    axes.grid()\n",
        "    axes.fill_between(train_sizes, train_scores_mean - train_scores_std,\n",
        "                         train_scores_mean + train_scores_std, alpha=0.1,\n",
        "                         color=\"r\")\n",
        "    axes.fill_between(train_sizes, test_scores_mean - test_scores_std,\n",
        "                         test_scores_mean + test_scores_std, alpha=0.1,\n",
        "                         color=\"g\")\n",
        "    axes.plot(train_sizes, train_scores_mean, 'o-', color=\"r\",\n",
        "                 label=\"Training score\")\n",
        "    axes.plot(train_sizes, test_scores_mean, 'o-', color=\"g\",\n",
        "                 label=\"Cross-validation score\")\n",
        "    axes.legend(loc=\"best\")\n",
        "\n",
        "\n",
        "    return plt\n",
        "\n",
        "clsfs = [clf_svm, rfc, clf_knn]\n",
        "\n",
        "# Create lists of datasets to loop over\n",
        "df_lasso_2_train=np.array(df_lasso_2_train)\n",
        "\n",
        "# First make plot without classifiers:\n",
        "num = 0\n",
        "fig = plt.figure(figsize=[50,50])\n",
        "ax = fig.add_subplot(10, 5, num + 1)\n",
        "ax.scatter(df_lasso_2_train[:,0], df_lasso_2_train[:,1], marker='o', c=y_train,s=25, edgecolor='k', cmap=plt.cm.Paired)\n",
        "num += 1\n",
        "\n",
        "# Create a cross-validation object\n",
        "cv = ShuffleSplit(n_splits=10, test_size=0.2, random_state=0)\n",
        "    \n",
        "# Now use the classifiers on all datasets\n",
        "for clf, i in zip(clsfs, range(3)):\n",
        "    # Split data in training and testing\n",
        "    titles = ['Support Vector Machine', 'Random Forest Classifier', 'k-NN Classifier']\n",
        "    title = titles[i]\n",
        "    ax = fig.add_subplot(10, 5, num + 1)\n",
        "    plot_learning_curve(clf, title, df_lasso_2_train, y_train, ax, ylim=(0.3, 1.01), cv=cv)\n",
        "    num += 1"
      ],
      "execution_count": 18,
      "outputs": [
        {
          "output_type": "display_data",
          "data": {
            "image/png": "[encoded data removed]",
            "text/plain": [
              "<Figure size 3600x3600 with 4 Axes>"
            ]
          },
          "metadata": {
            "tags": []
          }
        }
      ]
    }
  ]
}